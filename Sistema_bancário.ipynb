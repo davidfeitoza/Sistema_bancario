{
  "nbformat": 4,
  "nbformat_minor": 0,
  "metadata": {
    "colab": {
      "provenance": [],
      "authorship_tag": "ABX9TyOuNnl7CSsF/zKtQw1zkVK5",
      "include_colab_link": true
    },
    "kernelspec": {
      "name": "python3",
      "display_name": "Python 3"
    },
    "language_info": {
      "name": "python"
    }
  },
  "cells": [
    {
      "cell_type": "markdown",
      "metadata": {
        "id": "view-in-github",
        "colab_type": "text"
      },
      "source": [
        "<a href=\"https://colab.research.google.com/github/davidfeitoza/Sistema_bancario/blob/main/Sistema_banc%C3%A1rio.ipynb\" target=\"_parent\"><img src=\"https://colab.research.google.com/assets/colab-badge.svg\" alt=\"Open In Colab\"/></a>"
      ]
    },
    {
      "cell_type": "markdown",
      "source": [
        "### **Etapa 1**"
      ],
      "metadata": {
        "id": "Pi9M2pA8dKf_"
      }
    },
    {
      "cell_type": "code",
      "execution_count": 2,
      "metadata": {
        "colab": {
          "base_uri": "https://localhost:8080/"
        },
        "id": "RTzGA-nMdJwn",
        "outputId": "8c998dcb-fa8f-4fd7-e7c2-2e11452b4da3"
      },
      "outputs": [
        {
          "output_type": "stream",
          "name": "stdout",
          "text": [
            "Olá! Bem-vindo ao seu banco virtual.\n",
            "--------------------------------------\n",
            "1 - Consultar Saldo\n",
            "2 - Depositar\n",
            "3 - Sacar\n",
            "4 - Sair\n",
            "--------------------------------------\n",
            "Digite a opção desejada: 3\n",
            "Digite o valor a sacar: 10000\n",
            "Saldo insuficiente.\n"
          ]
        }
      ],
      "source": [
        "saldo = 0.0\n",
        "opcao = 0\n",
        "\n",
        "# Passo 2: Exibir uma mensagem de boas-vindas e as opções do menu\n",
        "\n",
        "print(\"Olá! Bem-vindo ao seu banco virtual.\")\n",
        "print(\"--------------------------------------\")\n",
        "print(\"1 - Consultar Saldo\")\n",
        "print(\"2 - Depositar\")\n",
        "print(\"3 - Sacar\")\n",
        "print(\"4 - Sair\")\n",
        "print(\"--------------------------------------\")\n",
        "\n",
        "# Passo 3: Ler a opção do usuário\n",
        "\n",
        "opcao_str = input(\"Digite a opção desejada: \")\n",
        "\n",
        "# Passo 4: Validar a opção do usuário usando um laço while\n",
        "\n",
        "while not opcao_str.isdigit() or not (1 <= int(opcao_str) <= 4):\n",
        "    print(\"Opção inválida. Por favor, digite um número entre 1 e 4.\")\n",
        "    opcao_str = input(\"Digite a opção desejada: \")\n",
        "\n",
        "opcao = int(opcao_str)\n",
        "\n",
        "# Aqui você pode adicionar a lógica para cada opção do menu\n",
        "\n",
        "if opcao == 1:\n",
        "\n",
        "    print(f\"Seu saldo atual é: R$ {saldo:.2f}\")\n",
        "\n",
        "elif opcao == 2:\n",
        "\n",
        "    valor_deposito = float(input(\"Digite o valor a depositar: \"))\n",
        "    saldo += valor_deposito\n",
        "    print(f\"Depósito de R$ {valor_deposito:.2f} realizado com sucesso.\")\n",
        "    print(f\"Seu novo saldo é: R$ {saldo:.2f}\")\n",
        "\n",
        "elif opcao == 3:\n",
        "\n",
        "    valor_saque = float(input(\"Digite o valor a sacar: \"))\n",
        "    if valor_saque < saldo:\n",
        "        saldo -= valor_saque\n",
        "        print(f\"Saque de R$ {valor_saque:.2f} realizado com sucesso.\")\n",
        "        print(f\"Seu novo saldo é: R$ {saldo:.2f}\")\n",
        "\n",
        "    else:\n",
        "\n",
        "        print(\"Saldo insuficiente.\")\n",
        "\n",
        "elif opcao == 4:\n",
        "\n",
        "    print(\"Obrigado por utilizar nosso banco virtual!\")"
      ]
    },
    {
      "cell_type": "markdown",
      "source": [
        "### **Etapa 2**"
      ],
      "metadata": {
        "id": "hIpv1cU2do1e"
      }
    },
    {
      "cell_type": "code",
      "source": [
        "saldo = 1000.0 # Saldo inicial (você pode alterar este valor)\n",
        "opcao = 0\n",
        "\n",
        "#Etapa 2 passo 1\n",
        "\n",
        "def consultar_saldo():\n",
        "    \"\"\"Exibe o saldo atual.\"\"\"\n",
        "    print(f\"Seu saldo atual é: R$ {saldo:.2f}\")\n",
        "\n",
        "def sacar():\n",
        "    \"\"\"Realiza a operação de saque, verificando o saldo.\"\"\"\n",
        "    global saldo # Indica que estamos modificando a variável global saldo\n",
        "    valor_saque = float(input(\"Digite o valor a sacar: \"))\n",
        "    if valor_saque <= saldo:\n",
        "        saldo -= valor_saque\n",
        "        print(f\"Saque de R$ {valor_saque:.2f} realizado com sucesso.\")\n",
        "    else:\n",
        "        print(\"Saldo insuficiente.\")\n",
        "\n",
        "def depositar():\n",
        "    \"\"\"Realiza a operação de depósito.\"\"\"\n",
        "    global saldo #Indica que estamos modificando a variável global saldo\n",
        "    valor_deposito = float(input(\"Digite o valor a depositar: R$ \"))\n",
        "    saldo += valor_deposito\n",
        "    print(f\"Depósito de R${valor_deposito:.2f} realizado com sucesso.\")\n",
        "\n",
        "# Passo 2: Exibir uma mensagem de boas-vindas e as opções do menu\n",
        "print(\"Olá! Bem-vindo ao seu banco virtual.\")\n",
        "print(\"--------------------------------------\")\n",
        "print(\"1 - Consultar Saldo\")\n",
        "print(\"2 - Depositar\")\n",
        "print(\"3 - Sacar\")\n",
        "print(\"4 - Sair\")\n",
        "print(\"--------------------------------------\")\n",
        "\n",
        "# Passo 3: Ler a opção do usuário\n",
        "opcao_str = input(\"Digite a opção desejada: \")\n",
        "\n",
        "# Passo 4: Validar a opção do usuário usando um laço while\n",
        "\n",
        "while not opcao_str.isdigit() or not (1 <= int(opcao_str) <= 4):\n",
        "    print(\"Opção inválida. Por favor, digite um número entre 1 e 4.\")\n",
        "    opcao_str = input(\"Digite a opção desejada: \")\n",
        "\n",
        "opcao = int(opcao_str)\n",
        "\n",
        "# Executar a ação com base na opção do usuário\n",
        "if opcao == 1:\n",
        "    consultar_saldo()\n",
        "elif opcao == 2:\n",
        "    depositar()\n",
        "elif opcao == 3:\n",
        "    sacar()\n",
        "elif opcao == 4:\n",
        "    print(\"Obrigado por utilizar nosso banco virtual! \")"
      ],
      "metadata": {
        "colab": {
          "base_uri": "https://localhost:8080/"
        },
        "id": "EYbuu4NPdrSe",
        "outputId": "ca1df2e7-b49d-4552-f826-74d6b1034877"
      },
      "execution_count": 3,
      "outputs": [
        {
          "output_type": "stream",
          "name": "stdout",
          "text": [
            "Olá! Bem-vindo ao seu banco virtual.\n",
            "--------------------------------------\n",
            "1 - Consultar Saldo\n",
            "2 - Depositar\n",
            "3 - Sacar\n",
            "4 - Sair\n",
            "--------------------------------------\n",
            "Digite a opção desejada: 1\n",
            "Seu saldo atual é: R$ 1000.00\n"
          ]
        }
      ]
    },
    {
      "cell_type": "markdown",
      "source": [
        "### **Etapa 3**"
      ],
      "metadata": {
        "id": "9L31r1ugeBsW"
      }
    },
    {
      "cell_type": "code",
      "source": [
        "saldo = 1000 # Saldo inicial (você pode alterar esse valor)\n",
        "\n",
        "def consultar_saldo():\n",
        "    \"\"\"Exibe o saldo atual.\"\"\"\n",
        "    print(f\"Seu saldo atual é: R$ {saldo:.2f}\")\n",
        "\n",
        "def sacar():\n",
        "    \"\"\"Realiza a operação de saque, verificando o saldo.\"\"\"\n",
        "    global saldo # Indica que estamos modificando a variável global saldo\n",
        "    valor_saque = float(input(\"Digite o valor a sacar: \"))\n",
        "    if valor_saque <= saldo:\n",
        "        saldo -= valor_saque\n",
        "        print(f\"Saque de R$ {valor_saque:.2f} realizado com sucesso.\")\n",
        "    else:\n",
        "        print(\"Saldo insuficiente.\")\n",
        "\n",
        "def depositar():\n",
        "    \"\"\"Realiza a operação de depósito.\"\"\"\n",
        "    global saldo #Indica que estamos modificando a variável global saldo\n",
        "    valor_deposito = float(input(\"Digite o valor a depositar: R$ \"))\n",
        "    saldo += valor_deposito\n",
        "    print(f\"Depósito de R${valor_deposito:.2f} realizado com sucesso!\")\n",
        "while True:\n",
        "\n",
        "    # Exibir mensagens de boas-vindas e as opções do menu\n",
        "\n",
        "    print(\"Olá! Bem-vindo ao seu banco virtual.\")\n",
        "    print(\"--------------------------------------\")\n",
        "    print(\"1 - Consultar Saldo\")\n",
        "    print(\"2 - Depositar\")\n",
        "    print(\"3 - Sacar\")\n",
        "    print(\"4 - Sair\")\n",
        "    print(\"--------------------------------------\")\n",
        "\n",
        "    # Ler a opção do usuário\n",
        "\n",
        "    opcao_str = input(\"Digite a opção desejada: \")\n",
        "\n",
        "    #Validar a opção do usuário usando um laço while\n",
        "\n",
        "    while not opcao_str.isdigit() or not (1 <= int(opcao_str) <= 4):\n",
        "        print(\"Opção Inválida. Por favor, digite um número entre 1 e 4.\")\n",
        "        opcao_str = input(\"Digite a opção desejada: \")\n",
        "\n",
        "    opcao = int(opcao_str)\n",
        "\n",
        "    # Executar a ação com base na ação do usuário\n",
        "\n",
        "    if opcao == 1:\n",
        "        consultar_saldo()\n",
        "\n",
        "    elif opcao == 2:\n",
        "        depositar()\n",
        "\n",
        "    elif opcao == 3:\n",
        "        sacar()\n",
        "\n",
        "    elif opcao == 4:\n",
        "        print(\"Obrigado por utilizar nosso banco virtual!\")\n",
        "        break # Sai do laço while, encerrando o programa."
      ],
      "metadata": {
        "colab": {
          "base_uri": "https://localhost:8080/"
        },
        "id": "5MUTC7eneEAn",
        "outputId": "30fe594f-3473-40d4-a573-d8e9e65f8578"
      },
      "execution_count": 4,
      "outputs": [
        {
          "output_type": "stream",
          "name": "stdout",
          "text": [
            "Olá! Bem-vindo ao seu banco virtual.\n",
            "--------------------------------------\n",
            "1 - Consultar Saldo\n",
            "2 - Depositar\n",
            "3 - Sacar\n",
            "4 - Sair\n",
            "--------------------------------------\n",
            "Digite a opção desejada: 2\n",
            "Digite o valor a depositar: R$ 5000\n",
            "Depósito de R$5000.00 realizado com sucesso!\n",
            "Olá! Bem-vindo ao seu banco virtual.\n",
            "--------------------------------------\n",
            "1 - Consultar Saldo\n",
            "2 - Depositar\n",
            "3 - Sacar\n",
            "4 - Sair\n",
            "--------------------------------------\n",
            "Digite a opção desejada: 1\n",
            "Seu saldo atual é: R$ 6000.00\n",
            "Olá! Bem-vindo ao seu banco virtual.\n",
            "--------------------------------------\n",
            "1 - Consultar Saldo\n",
            "2 - Depositar\n",
            "3 - Sacar\n",
            "4 - Sair\n",
            "--------------------------------------\n",
            "Digite a opção desejada: 4\n",
            "Obrigado por utilizar nosso banco virtual!\n"
          ]
        }
      ]
    }
  ]
}