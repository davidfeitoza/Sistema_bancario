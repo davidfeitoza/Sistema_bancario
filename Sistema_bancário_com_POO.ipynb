{
  "nbformat": 4,
  "nbformat_minor": 0,
  "metadata": {
    "colab": {
      "provenance": [],
      "authorship_tag": "ABX9TyMRsIp0arPoLEp0adcoSxeB",
      "include_colab_link": true
    },
    "kernelspec": {
      "name": "python3",
      "display_name": "Python 3"
    },
    "language_info": {
      "name": "python"
    }
  },
  "cells": [
    {
      "cell_type": "markdown",
      "metadata": {
        "id": "view-in-github",
        "colab_type": "text"
      },
      "source": [
        "<a href=\"https://colab.research.google.com/github/davidfeitoza/Sistema_bancario/blob/main/Sistema_banc%C3%A1rio_com_POO.ipynb\" target=\"_parent\"><img src=\"https://colab.research.google.com/assets/colab-badge.svg\" alt=\"Open In Colab\"/></a>"
      ]
    },
    {
      "cell_type": "markdown",
      "source": [
        "### **Etapa 1**"
      ],
      "metadata": {
        "id": "gd_NkwWYhUgv"
      }
    },
    {
      "cell_type": "code",
      "execution_count": 1,
      "metadata": {
        "colab": {
          "base_uri": "https://localhost:8080/"
        },
        "id": "dIiJ0NvhhOBV",
        "outputId": "f3cbc37f-f709-4af2-9827-18f48a89a652"
      },
      "outputs": [
        {
          "output_type": "stream",
          "name": "stdout",
          "text": [
            "Conta criada: 12345-X, Saldo inicial: R$ 1000.00\n",
            "Conta de João: 67890-Y, Saldo inicial: R$ 0.00\n",
            "Extrato da minha conta: []\n"
          ]
        }
      ],
      "source": [
        "class ContaBancaria:\n",
        "  \"\"\"\n",
        "  Representa uma conta bancária com saldo e histórico de transações.\n",
        "  \"\"\"\n",
        "  # Método Construtor que define os atributos dos objetos a serem criados (instanciados)\n",
        "  def __init__(self, numero_conta, saldo_inicial=0, extrato_inicial=None):\n",
        "    self.saldo = saldo_inicial\n",
        "    self._numero_conta = numero_conta\n",
        "    self.extrato = extrato_inicial if extrato_inicial is not None else []\n",
        "\n",
        "# Exemplo de como você poderia usar a classe\n",
        "# Criando uma conta bancária de exemplo\n",
        "minha_conta = ContaBancaria(numero_conta=\"12345-X\", saldo_inicial=1000.0)\n",
        "print(f\"Conta criada: {minha_conta._numero_conta}, Saldo inicial: R$ {minha_conta.saldo:.2f}\")\n",
        "\n",
        "# Criando outra conta para mostrar independência\n",
        "conta_joao = ContaBancaria(numero_conta=\"67890-Y\")\n",
        "print(f\"Conta de João: {conta_joao._numero_conta}, Saldo inicial: R$ {conta_joao.saldo:.2f}\")\n",
        "\n",
        "# O extrato é uma lista vazia no início\n",
        "print(f\"Extrato da minha conta: {minha_conta.extrato}\")"
      ]
    },
    {
      "cell_type": "markdown",
      "source": [
        "### **Etapa 2**"
      ],
      "metadata": {
        "id": "Tnai33r8hc0u"
      }
    },
    {
      "cell_type": "code",
      "source": [
        "import datetime # Necessário para registrar data e hora das transações\n",
        "\n",
        "class ContaBancaria:\n",
        "  \"\"\" Representa uma conta bancária com saldo e histórico de transações.\"\"\"\n",
        "  # Método Construtor que define os atributos dos objetos a serem criados (instanciados)\n",
        "  def __init__(self, numero_conta, saldo_inicial=0, extrato_inicial=None):\n",
        "    self.saldo = saldo_inicial\n",
        "    self._numero_conta = numero_conta\n",
        "    self.extrato = extrato_inicial if extrato_inicial is not None else []\n",
        "\n",
        "  def consultar_saldo(self):\n",
        "    \"\"\"Exibe o saldo atual da conta.\"\"\"\n",
        "    print(f\"Seu saldo atual é: R$ {self.saldo:.2f}\")\n",
        "\n",
        "  def depositar(self, valor):\n",
        "    \"\"\"Realiza uma operação de depósito na conta.\"\"\"\n",
        "    try:\n",
        "      valor_deposito = float(valor)\n",
        "      if valor_deposito <= 0:\n",
        "        print(\"Valor de depósito inválido. Digite um número positivo.\")\n",
        "        return\n",
        "      self.saldo += valor_deposito # Atualiza o saldo somando o valor do depósito\n",
        "      # Registra a transação no extrato\n",
        "      agora = datetime.datetime.now()\n",
        "      self.extrato.append({\n",
        "          \"data_hora\": agora.strftime(\"%d/%m/%Y %H:%M:%S\"),\n",
        "          \"tipo\": \"Depósito\",\n",
        "          \"valor\": valor_deposito\n",
        "      })\n",
        "      print(f\"Depósito de R$ {valor_deposito:.2f} realizado com sucesso.\")\n",
        "      print(f\"Seu novo saldo é: R$ {self.saldo:.2f}\")\n",
        "    except ValueError:\n",
        "      print(\"Valor inválido para depósito. Por favor, digite um número.\")\n",
        "\n",
        "  def sacar(self, valor):\n",
        "    \"\"\"Realiza uma operação de saque na conta, verificando o saldo.\"\"\"\n",
        "    try:\n",
        "      valor_saque = float(valor)\n",
        "      if valor_saque <= 0:\n",
        "        print(\"Valor de saque inválido. Digite um número positivo.\")\n",
        "        return\n",
        "      if valor_saque <= self.saldo: #Verifica se o saldo é suficiente.\n",
        "        self.saldo -= valor_saque # Atualiza o saldo\n",
        "        # Registra a transação no extrato\n",
        "        agora = datetime.datetime.now()\n",
        "        self.extrato.append({\n",
        "          \"data_hora\": agora.strftime(\"%d/%m/%Y %H:%M:%S\"),\n",
        "          \"tipo\": \"Saque\",\n",
        "          \"valor\": valor_saque\n",
        "        })\n",
        "        print(f\"Saque de R$ {valor_saque:.2f} realizado com sucesso.\")\n",
        "        print(f\"Seu novo saldo é: R$ {self.saldo:.2f}\")\n",
        "      else:\n",
        "        print(\"Saldo insuficiente.\")\n",
        "    except ValueError:\n",
        "      print(\"Valor inválido para saque. Por favor, digite um número.\")"
      ],
      "metadata": {
        "id": "xjgWdTb5he8O"
      },
      "execution_count": 2,
      "outputs": []
    },
    {
      "cell_type": "code",
      "source": [
        "# Exemplo de como você poderia usar a classe para testar os métodos\n",
        "if __name__ == \"__main__\":\n",
        "  # Criando uma conta bancária de exemplo\n",
        "  minha_conta = ContaBancaria(numero_conta=\"98765-4\", saldo_inicial=500.0)\n",
        "  print(f\"Conta {minha_conta._numero_conta} criada com saldo: R$ {minha_conta.saldo:.2f}\")\n",
        "\n",
        "  print(\"\\n--- Testando operações ---\")\n",
        "  minha_conta.consultar_saldo() # Exibe o saldo atual da conta.\n",
        "\n",
        "  minha_conta.depositar(200) # Permite ao usuário depositar um valor na conta.\n",
        "  minha_conta.consultar_saldo() # Exibe o saldo atual da conta.\n",
        "\n",
        "  minha_conta.sacar(150) # Permite ao usuário sacar um valor da conta, verificando se há saldo suficiente.\n",
        "  minha_conta.consultar_saldo() # Exibe o saldo atual da conta.\n",
        "\n",
        "  minha_conta.sacar(700) # Tentativa de saque com saldo insuficiente.\n",
        "  minha_conta.consultar_saldo() # Exibe o saldo atual da conta.\n",
        "\n",
        "  minha_conta.depositar(\"abc\") # Teste de entrada inválida para depósito.\n",
        "  minha_conta.sacar(\"xyz\") # Teste de entrada inválida para saque."
      ],
      "metadata": {
        "colab": {
          "base_uri": "https://localhost:8080/"
        },
        "id": "2rmLLY_yh2ge",
        "outputId": "692a597e-72c7-44dd-a55b-622f9a343e03"
      },
      "execution_count": 3,
      "outputs": [
        {
          "output_type": "stream",
          "name": "stdout",
          "text": [
            "Conta 98765-4 criada com saldo: R$ 500.00\n",
            "\n",
            "--- Testando operações ---\n",
            "Seu saldo atual é: R$ 500.00\n",
            "Depósito de R$ 200.00 realizado com sucesso.\n",
            "Seu novo saldo é: R$ 700.00\n",
            "Seu saldo atual é: R$ 700.00\n",
            "Saque de R$ 150.00 realizado com sucesso.\n",
            "Seu novo saldo é: R$ 550.00\n",
            "Seu saldo atual é: R$ 550.00\n",
            "Saldo insuficiente.\n",
            "Seu saldo atual é: R$ 550.00\n",
            "Valor inválido para depósito. Por favor, digite um número.\n",
            "Valor inválido para saque. Por favor, digite um número.\n"
          ]
        }
      ]
    },
    {
      "cell_type": "markdown",
      "source": [
        "### **Etapa 3**"
      ],
      "metadata": {
        "id": "5xV1moYIiALG"
      }
    },
    {
      "cell_type": "code",
      "source": [
        "import datetime # Necessário para registrar data e hora das transações\n",
        "\n",
        "class ContaBancaria:\n",
        "  \"\"\" Representa uma conta bancária com saldo e histórico de transações.\"\"\"\n",
        "  # Método Construtor que define os atributos dos objetos a serem criados (instanciados)\n",
        "  def __init__(self, numero_conta, saldo_inicial=0, extrato_inicial=None):\n",
        "    self.saldo = saldo_inicial\n",
        "    self._numero_conta = numero_conta\n",
        "    self.extrato = extrato_inicial if extrato_inicial is not None else []\n",
        "\n",
        "  def consultar_saldo(self):\n",
        "    \"\"\"Exibe o saldo atual da conta.\"\"\"\n",
        "    print(f\"Seu saldo atual é: R$ {self.saldo:.2f}\")\n",
        "\n",
        "  def depositar(self, valor):\n",
        "    \"\"\"Realiza uma operação de depósito na conta.\"\"\"\n",
        "    try:\n",
        "      valor_deposito = float(valor)\n",
        "      if valor_deposito <= 0:\n",
        "        print(\"Valor de depósito inválido. Digite um número positivo.\")\n",
        "        return\n",
        "      self.saldo += valor_deposito # Atualiza o saldo somando o valor do depósito\n",
        "      # Registra a transação no extrato\n",
        "      agora = datetime.datetime.now()\n",
        "      self.extrato.append({\n",
        "          \"data_hora\": agora.strftime(\"%d/%m/%Y %H:%M:%S\"),\n",
        "          \"tipo\": \"Depósito\",\n",
        "          \"valor\": valor_deposito\n",
        "      })\n",
        "      print(f\"Depósito de R$ {valor_deposito:.2f} realizado com sucesso.\")\n",
        "      print(f\"Seu novo saldo é: R$ {self.saldo:.2f}\")\n",
        "    except ValueError:\n",
        "      print(\"Valor inválido para depósito. Por favor, digite um número.\")\n",
        "\n",
        "  def sacar(self, valor):\n",
        "    \"\"\"Realiza uma operação de saque na conta, verificando o saldo.\"\"\"\n",
        "    try:\n",
        "      valor_saque = float(valor)\n",
        "      if valor_saque <= 0:\n",
        "        print(\"Valor de saque inválido. Digite um número positivo.\")\n",
        "        return\n",
        "      if valor_saque <= self.saldo: # Verifica se o saldo é suficiente.\n",
        "        self.saldo -= valor_saque # Atualiza o saldo\n",
        "        # Registra a transação no extrato\n",
        "        agora = datetime.datetime.now()\n",
        "        self.extrato.append({\n",
        "          \"data_hora\": agora.strftime(\"%d/%m/%Y %H:%M:%S\"),\n",
        "          \"tipo\": \"Saque\",\n",
        "          \"valor\": valor_saque\n",
        "        })\n",
        "        print(f\"Saque de R$ {valor_saque:.2f} realizado com sucesso.\")\n",
        "        print(f\"Seu novo saldo é: R$ {self.saldo:.2f}\")\n",
        "      else:\n",
        "        print(\"Saldo insuficiente.\")\n",
        "    except ValueError:\n",
        "      print(\"Valor inválido para saque. Por favor, digite um número.\")\n",
        "\n",
        "  def exibir_extrato(self):\n",
        "    \"\"\"Exibe o histórico detalhado de transações da conta.\"\"\"\n",
        "    if not self.extrato: # Verifica se o extrato está vazio\n",
        "      print(\"Não foram realizadas transações.\")\n",
        "    else:\n",
        "      print(\"\\n--- Extrato Bancário ---\")\n",
        "      for transacao in self.extrato: # Iterar sobre a lista extrato e exiba cada transação formatada.\n",
        "        data_hora = transacao[\"data_hora\"]\n",
        "        tipo = transacao[\"tipo\"]\n",
        "        valor = transacao[\"valor\"]\n",
        "        print(f\"{data_hora} - {tipo}: R$ {valor:.2f}\")\n",
        "      print(f\"Saldo atual: R$ {self.saldo:.2f} \") # Exibir o saldo atual da conta.\n",
        "\n",
        "  def transferir(self, conta_destino, valor):\n",
        "    \"\"\" Realiza uma transferência de valor para outra conta bancária.\"\"\"\n",
        "    try:\n",
        "      valor_transferencia = float(valor) # 0 sistema deverá pedir o número da conta de destino e depois o valor a ser transferido.\n",
        "      if valor_transferencia <= 0:\n",
        "        print(\"Valor de transferência inválido. Digite um número positivo.\")\n",
        "        return\n",
        "      if not isinstance(conta_destino, ContaBancaria): # Verifica se existe a conta de destino\n",
        "        print(\"Erro: A conta de destino não é válida de ContaBancaria.\")\n",
        "        return\n",
        "      if valor_transferencia <= self.saldo: # Verificar se há saldo suficiente na conta de origem\n",
        "        self.saldo -= valor_transferencia # O valor deve ser subtraído do saldo.\n",
        "        # Registrar a transação na conta de origem\n",
        "        agora = datetime.datetime.now()\n",
        "        self.extrato.append({\n",
        "          \"data_hora\": agora.strftime(\"%d/%m/%Y %H:%M:%S\"),\n",
        "          \"tipo\": f\"Transferência para {conta_destino._numero_conta}\",\n",
        "          \"valor\": valor_transferencia\n",
        "        })\n",
        "        print(f\"Transferência de R$ {valor_transferencia:.2f} para conta {conta_destino._numero_conta} realizada com sucesso.\")\n",
        "        print(f\"Seu novo saldo é: R$ {self.saldo:.2f}\")\n",
        "        # Chamar o método depositar da conta destino\n",
        "        conta_destino.depositar(valor_transferencia) # Chamar o método depositar() da conta_destino para adicionar o valor.\n",
        "      else:\n",
        "        print(\"Saldo insuficiente para realizar a transferência.\")\n",
        "    except ValueError:\n",
        "      print(\"Valor inválido para transferência. Por favor, digite um número.\")"
      ],
      "metadata": {
        "id": "2QQ1h810iIOu"
      },
      "execution_count": 4,
      "outputs": []
    },
    {
      "cell_type": "code",
      "source": [
        "# Exemplo de uso da classe (para testar os métodos adicionados):\n",
        "if __name__ == \"__main__\":\n",
        "  minha_conta = ContaBancaria(numero_conta=\"12345-X\", saldo_inicial=1000.0)\n",
        "  conta_joao = ContaBancaria(numero_conta=\"67890-Y\", saldo_inicial=200.0)\n",
        "\n",
        "  print(f\"Conta {minha_conta._numero_conta} criada com saldo: R$ {minha_conta.saldo:.2f}\")\n",
        "  print(f\"Conta {conta_joao._numero_conta} criada com saldo: R$ {conta_joao.saldo:.2f}\")\n",
        "\n",
        "  print(\"\\n--- Testando Extrato (inicial) ---\")\n",
        "  minha_conta.exibir_extrato() # Exibe as últimas transações realizadas na conta.\n",
        "\n",
        "  print(\"\\n--- Realizando Operações para popular o extrato ---\")\n",
        "  minha_conta.depositar(300) # Permite ao usuário depositar um valor na conta.\n",
        "  minha_conta.sacar (150) # Permite ao usuário sacar um valor da conta, verificando se há saldo suficiente.\n",
        "\n",
        "  print(\"\\n--- Testando Extrato (após operações) ---\")\n",
        "  minha_conta.exibir_extrato()\n",
        "\n",
        "  print(\"\\n--- Testando Transferência ---\")\n",
        "  minha_conta.transferir(conta_joao, 400) # Realiza uma transferência\n",
        "\n",
        "  print(\"\\n--- Saldos após transferência ---\")\n",
        "  minha_conta.consultar_saldo()\n",
        "  conta_joao.consultar_saldo()\n",
        "\n",
        "  print(\"\\n--- Extrato da minha conta após transferência ---\")\n",
        "  minha_conta.exibir_extrato()\n",
        "\n",
        "  print(\"\\n--- Extrato da conta do João após transferência ---\")\n",
        "  conta_joao.exibir_extrato()\n",
        "\n",
        "  minha_conta.transferir(conta_joao, 1500) # Tentativa de transferência com saldo insuficiente"
      ],
      "metadata": {
        "colab": {
          "base_uri": "https://localhost:8080/"
        },
        "id": "xxh8O-rviYgO",
        "outputId": "b729b05f-c4cb-4fbd-aac4-442fa21f8875"
      },
      "execution_count": 5,
      "outputs": [
        {
          "output_type": "stream",
          "name": "stdout",
          "text": [
            "Conta 12345-X criada com saldo: R$ 1000.00\n",
            "Conta 67890-Y criada com saldo: R$ 200.00\n",
            "\n",
            "--- Testando Extrato (inicial) ---\n",
            "Não foram realizadas transações.\n",
            "\n",
            "--- Realizando Operações para popular o extrato ---\n",
            "Depósito de R$ 300.00 realizado com sucesso.\n",
            "Seu novo saldo é: R$ 1300.00\n",
            "Saque de R$ 150.00 realizado com sucesso.\n",
            "Seu novo saldo é: R$ 1150.00\n",
            "\n",
            "--- Testando Extrato (após operações) ---\n",
            "\n",
            "--- Extrato Bancário ---\n",
            "06/06/2025 00:00:16 - Depósito: R$ 300.00\n",
            "06/06/2025 00:00:16 - Saque: R$ 150.00\n",
            "Saldo atual: R$ 1150.00 \n",
            "\n",
            "--- Testando Transferência ---\n",
            "Transferência de R$ 400.00 para conta 67890-Y realizada com sucesso.\n",
            "Seu novo saldo é: R$ 750.00\n",
            "Depósito de R$ 400.00 realizado com sucesso.\n",
            "Seu novo saldo é: R$ 600.00\n",
            "\n",
            "--- Saldos após transferência ---\n",
            "Seu saldo atual é: R$ 750.00\n",
            "Seu saldo atual é: R$ 600.00\n",
            "\n",
            "--- Extrato da minha conta após transferência ---\n",
            "\n",
            "--- Extrato Bancário ---\n",
            "06/06/2025 00:00:16 - Depósito: R$ 300.00\n",
            "06/06/2025 00:00:16 - Saque: R$ 150.00\n",
            "06/06/2025 00:00:16 - Transferência para 67890-Y: R$ 400.00\n",
            "Saldo atual: R$ 750.00 \n",
            "\n",
            "--- Extrato da conta do João após transferência ---\n",
            "\n",
            "--- Extrato Bancário ---\n",
            "06/06/2025 00:00:16 - Depósito: R$ 400.00\n",
            "Saldo atual: R$ 600.00 \n",
            "Saldo insuficiente para realizar a transferência.\n"
          ]
        }
      ]
    },
    {
      "cell_type": "markdown",
      "source": [
        "### **Etapa 4**"
      ],
      "metadata": {
        "id": "K3SrdTV7ioO-"
      }
    },
    {
      "cell_type": "code",
      "source": [
        "def salvar_dados(conta, filename=\"banco_dados.json\"):\n",
        "  \"\"\"Salva o saldo e o extrato de uma conta em um arquivo JSON.\"\"\"\n",
        "  dados = {\n",
        "    \"numero_conta\": conta._numero_conta, # Incluir o número da conta para recriar o objeto\n",
        "    \"saldo\": conta.saldo,\n",
        "    \"extrato\": conta.extrato\n",
        "  }\n",
        "  with open(filename, \"w\") as f: # Abre o arquivo \"banco_dados.json\" em modo de escrita (\"w\")\n",
        "    # Salva o saldo e o extrato no arquivo usando json.dump()\n",
        "    json.dump(dados, f, indent=4) # 0 'indent=4' é para formatar o JSON de forma legível\n",
        "  print(f\"Dados da conta '{conta._numero_conta}' salvos com sucesso!\")\n",
        "\n",
        "def carregar_dados(filename=\"banco_dados.json\"):\n",
        "  \"\"\"Carrega o saldo e o extrato de uma conta a partir de um arquivo JSON.\"\"\"\n",
        "  try: # Tentar abrir um arquivo chamado \"banco_dados.json\" em modo de leitura (\"r\").\n",
        "    with open(filename, \"r\") as f:\n",
        "      dados = json.load(f) # Se o arquivo existir, carregar o saldo e o extrato de lá.\n",
        "      # Retorna uma nova instância de ContaBancaria com os dados carregados\n",
        "      return ContaBancaria(dados [\"numero_conta\"], dados [\"saldo\"], dados [\"extrato\"])\n",
        "  except FileNotFoundError: # Se o arquivo não existir (FileNotFoundError), definir o saldo inicial e o extrato como uma lista vazia.\n",
        "    print(\"Arquivo de dados não encontrado. Criando nova conta com número padrão '00000-0'.\")\n",
        "    return ContaBancaria(\"00000-0\") # Retorna uma nova conta com um número padrão se o arquivo não for encontrado"
      ],
      "metadata": {
        "id": "oLI4-zZ6irgO"
      },
      "execution_count": 6,
      "outputs": []
    },
    {
      "cell_type": "markdown",
      "source": [
        "### **Etapa 5**"
      ],
      "metadata": {
        "id": "cTLUg9sVi0__"
      }
    },
    {
      "cell_type": "code",
      "source": [
        "# Looping principal do programa\n",
        "if __name__ == \"__main__ \":\n",
        "  minha_conta = carregar_dados() # Chamar carregar_dados() para obter uma instância de ContaBancaria.\n",
        "  # Exemplo de como você poderia ter uma segunda conta (para transferência)\n",
        "  outra_conta = carregar_dados (filename=\"banco_secundario.json\")\n",
        "  if outra_conta._numero_conta == \"00000-0\": # Se for uma conta recém-criada (não carregada de arquivo)\n",
        "    outra_conta._numero_conta = \"54321-Y\" # Atribui um número real para demonstração\n",
        "  while True: # Manter o loop while True que exibe o menu de opções.\n",
        "    print(\"\\n--- Olá! Bem-vindo ao seu banco virtual. ---\")\n",
        "    print(\"----------------------------------------\")\n",
        "    print(\"1 Consultar Saldo\")\n",
        "    print(\"2 - Depositar\")\n",
        "    print(\"3 - Sacar\")\n",
        "    print(\"4 - Exibir Extrato\")\n",
        "    print(\"5 - Transferir\")\n",
        "    print(\"6 - Sair\")\n",
        "    print(\"----------------------------------------\")\n",
        "\n",
        "    opcao_str = input(\"Digite a opção desejada: \")\n",
        "    try:\n",
        "      opcao = int(opcao_str)\n",
        "      if not (1 <= opcao <= 6): # Validar a opção escolhida\n",
        "        print(\"Opção inválida. Por favor, digite um número entre 1 e 6.\")\n",
        "        continue # Continua o loop para pedir a opção novamente\n",
        "    except ValueError:\n",
        "      print(\"Opção inválida. Por favor, digite um número inteiro.\")\n",
        "      continue\n",
        "    if opcao == 1:\n",
        "      minha_conta.consultar_saldo()\n",
        "    elif opcao == 2:\n",
        "      valor = input(\"Digite o valor a depositar: R$ \")\n",
        "      minha_conta.depositar(valor)\n",
        "    elif opcao == 3:\n",
        "      valor = input(\"Digite o valor a sacar: R$ \")\n",
        "      minha_conta.sacar(valor)\n",
        "    elif opcao == 4:\n",
        "      minha_conta.exibir_extrato()\n",
        "    elif opcao == 5:\n",
        "      print(f\"\\nRealizando transferência da conta '{minha_conta.numero_conta} para '{outra_conta.numero_conta}'\")\n",
        "      valor_transferencia = input(\"Digite o valor a ser transferido: R$ \")\n",
        "      minha_conta.transferir(outra_conta, valor_transferencia)\n",
        "    elif opcao == 6:\n",
        "      salvar_dados(minha_conta) # Salvar os dados na conta principal antes de sair.\n",
        "      salvar_dados(outra_conta, filename=\"banco_secundario.json\") # Salvar a segunda conta também\n",
        "      print(\"Obrigado por utilizar nosso banco virtual!\")\n",
        "      break"
      ],
      "metadata": {
        "id": "5D5pMngri3le"
      },
      "execution_count": 7,
      "outputs": []
    }
  ]
}